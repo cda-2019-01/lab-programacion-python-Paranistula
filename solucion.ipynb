{
 "cells": [
  {
   "cell_type": "markdown",
   "metadata": {},
   "source": [
    "Programación en Python para manipulación de datos"
   ]
  },
  {
   "cell_type": "code",
   "execution_count": 11,
   "metadata": {},
   "outputs": [],
   "source": [
    "import math"
   ]
  },
  {
   "cell_type": "code",
   "execution_count": null,
   "metadata": {},
   "outputs": [],
   "source": []
  },
  {
   "cell_type": "markdown",
   "metadata": {},
   "source": [
    "1. Imprima la suma de la segunda columna en q01.py"
   ]
  },
  {
   "cell_type": "code",
   "execution_count": null,
   "metadata": {},
   "outputs": [],
   "source": []
  },
  {
   "cell_type": "markdown",
   "metadata": {},
   "source": [
    "2. Imprima la cantidad de registros por letra para la primera columna, ordenados alfabeticamente en q02.py"
   ]
  },
  {
   "cell_type": "markdown",
   "metadata": {},
   "source": [
    "3. Imprima la suma de la columna 2 por cada letra de la primera columna, ordneados alfabeticamente q03.py"
   ]
  },
  {
   "cell_type": "markdown",
   "metadata": {},
   "source": [
    "4. Imprima la cantidad de registros por cada mes en q04.py"
   ]
  },
  {
   "cell_type": "code",
   "execution_count": null,
   "metadata": {},
   "outputs": [],
   "source": []
  },
  {
   "cell_type": "markdown",
   "metadata": {},
   "source": [
    "5. Imprima el valor maximo y minimo por cada letra de la columa 1 en q05.py"
   ]
  },
  {
   "cell_type": "markdown",
   "metadata": {},
   "source": [
    "6. Por cada clave de la columna 5 (cadena de tres letras), obtenga el valor mas pequeño y el valor mas grande asociado a esa clave en q06.py"
   ]
  },
  {
   "cell_type": "markdown",
   "metadata": {},
   "source": [
    "7. Genere una lista de tuplas, donde cada tupla contiene en la primera posicion, el valor de la segunda columna; la segunda parte de la tupla es una lista con las letras de la primera columna que aparecen asociadas a dicho valor de la segunda columna en q07.py"
   ]
  },
  {
   "cell_type": "markdown",
   "metadata": {},
   "source": [
    "8. Genere una lista de tuplas, donde cada tupla contiene en la primera posicion, el valor de la segunda columna; la segunda parte de la tupla es una lista con las letras (ordenadas) de la primera columna que aparecen asociadas a dicho valor de la segunda columna en q08.py"
   ]
  },
  {
   "cell_type": "markdown",
   "metadata": {},
   "source": [
    "9. Genere una lista de tuplas, donde cada tupla contiene en la primera posicion, el valor de la segunda columna; la segunda parte de la tupla es una lista con las letras (ordenadas y sin repetir letra) de la primera  columna que aparecen asociadas a dicho valor de la segunda columna en q09.py"
   ]
  },
  {
   "cell_type": "markdown",
   "metadata": {},
   "source": [
    "10. Imprima una tabla en formato CSV que contenga por cada clave de la columna 5, la correspondiente cantidad de registros asociados (filas en el archivo) en q10.py"
   ]
  },
  {
   "cell_type": "markdown",
   "metadata": {},
   "source": [
    "11. Imprima una tabla en formato CSV que contenga por registro, la cantidad de elementos de las columnas 4 y 5 (filas en el archivo) en q11.py"
   ]
  },
  {
   "cell_type": "markdown",
   "metadata": {},
   "source": [
    "12. Imprima la suma de la columna 2 por cada letra de la columna 4, ordnados alfabeticamente en q12.py"
   ]
  },
  {
   "cell_type": "markdown",
   "metadata": {},
   "source": [
    "13. Imprima por cada fila, la columna 1 y la suma de los valores de la columna 5 en q13.py"
   ]
  },
  {
   "cell_type": "code",
   "execution_count": null,
   "metadata": {},
   "outputs": [],
   "source": []
  }
 ],
 "metadata": {
  "kernelspec": {
   "display_name": "Python 3",
   "language": "python",
   "name": "python3"
  },
  "language_info": {
   "codemirror_mode": {
    "name": "ipython",
    "version": 3
   },
   "file_extension": ".py",
   "mimetype": "text/x-python",
   "name": "python",
   "nbconvert_exporter": "python",
   "pygments_lexer": "ipython3",
   "version": "3.6.7"
  }
 },
 "nbformat": 4,
 "nbformat_minor": 2
}
